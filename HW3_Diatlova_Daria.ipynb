{
 "cells": [
  {
   "cell_type": "markdown",
   "metadata": {},
   "source": [
    "##  Реализация метода L-BFGS для решения логистической регрессии \n",
    "### Дарья Дятлова, 1 курс МОиАД ВШЭ¶"
   ]
  },
  {
   "cell_type": "code",
   "execution_count": 3,
   "metadata": {},
   "outputs": [],
   "source": [
    "import numpy as np\n",
    "import random \n",
    "import scipy\n",
    "from scipy.special import expit\n",
    "from sklearn.datasets import load_svmlight_file\n",
    "import matplotlib.pyplot as plt\n",
    "import functools\n",
    "import time\n",
    "from collections import deque\n",
    "from collections import defaultdict\n",
    "import warnings\n",
    "warnings.filterwarnings('ignore')"
   ]
  },
  {
   "cell_type": "markdown",
   "metadata": {},
   "source": [
    "#### Заведем класс Helper с методами для рассчета времени работы функций и количиства вызовов оракла:"
   ]
  },
  {
   "cell_type": "code",
   "execution_count": 4,
   "metadata": {},
   "outputs": [],
   "source": [
    "class Helper:\n",
    "    counter = defaultdict(int)\n",
    "    timer = {}\n",
    "    data = {}\n",
    "\n",
    "    @classmethod\n",
    "    def timer_start(cls, label: str):\n",
    "        cls.timer[label] = time.time()\n",
    "\n",
    "    @classmethod\n",
    "    def timer_stop(cls, label: str):\n",
    "        if not cls.timer.get(label):\n",
    "            print(\"Error - no label found\")\n",
    "            return\n",
    "\n",
    "        cls.timer[label] = time.time() - cls.timer[label]\n",
    "        return cls.timer[label]\n",
    "\n",
    "    @classmethod\n",
    "    def counter_add(cls, label: str):\n",
    "        cls.counter[label] += 1\n",
    "\n",
    "    @classmethod\n",
    "    def counter_set(cls, label: str, value: int):\n",
    "        cls.counter[label] = value\n",
    "\n",
    "    @classmethod\n",
    "    def reset(cls):\n",
    "        cls.counter = defaultdict(int)\n",
    "        cls.timer = {}\n",
    "        cls.data = {}"
   ]
  },
  {
   "cell_type": "code",
   "execution_count": 5,
   "metadata": {},
   "outputs": [],
   "source": [
    "def counter(func):\n",
    "    @functools.wraps(func)\n",
    "    def inner(*args, **kwargs):\n",
    "        inner.count += 1\n",
    "        s_time = time.perf_counter()\n",
    "        result = func(*args, **kwargs)\n",
    "        inner.time = time.perf_counter() - s_time\n",
    "        return result\n",
    "    inner.count = 0\n",
    "    inner.time = 0\n",
    "    return inner"
   ]
  },
  {
   "cell_type": "markdown",
   "metadata": {},
   "source": [
    "#### Запишем сигмоид и оракл:"
   ]
  },
  {
   "cell_type": "code",
   "execution_count": 6,
   "metadata": {},
   "outputs": [],
   "source": [
    "def sigmoid(w):\n",
    "    res = scipy.special.expit(w)\n",
    "    return res"
   ]
  },
  {
   "cell_type": "code",
   "execution_count": 7,
   "metadata": {},
   "outputs": [],
   "source": [
    "class Oracle:\n",
    "    \n",
    "    def __init__(self, X, y):       \n",
    "        self.X = X.copy()\n",
    "        self.y = y.copy()\n",
    "    @counter   \n",
    "    def value(self, w):\n",
    "        eps = 1e-8\n",
    "        res = (- 1 / self.X.shape[0]) * ((self.y @ np.log(sigmoid(self.X @ w) + eps)) + ((1 - self.y) @ np.log(1 - sigmoid(self.X @ w) + eps)))\n",
    "        return res\n",
    "    @counter\n",
    "    def grad(self, w):\n",
    "        res = (1 / self.X.shape[0]) * self.X.T @ (sigmoid(self.X @ w) - self.y)\n",
    "        Helper.counter_add(\"loop.counter\")\n",
    "        return res\n",
    "        cls.counter = defaultdict(int)\n",
    "        cls.timer = {}\n",
    "        cls.data = {}\n",
    "    @counter\n",
    "    def hessian(self, w):\n",
    "        d = sigmoid(self.X @ w) * (1 - sigmoid(self.X @ w)) \n",
    "        D = np.diagflat(d)\n",
    "        return (1 / self.X.shape[0]) * (self.X.T @ (D @ self.X))\n",
    "    @counter\n",
    "    def hessian_vec_product(self, w, d):\n",
    "        sigma = sigmoid(self.X @ w)\n",
    "        vec = self.X @ d\n",
    "        vec = np.diag(sigma * (1 - sigma)) @ vec\n",
    "        return (1 / len(self.X[1])) * self.X.T @ vec \n",
    "    @counter\n",
    "    def fuse_value_grad(self, x):\n",
    "        return value(x), grad(x)\n",
    "    @counter\n",
    "    def fuse_value_grad_hessian(self, x):\n",
    "        return value(x), grad(x), hessian(x)\n",
    "    @counter\n",
    "    def fuse_value_grad_hessian_vec_product(self, x, d):\n",
    "        return value(x), grad(x), hessian_vec_product(x, d)"
   ]
  },
  {
   "cell_type": "markdown",
   "metadata": {},
   "source": [
    "#### Напишем функцию для загрузкии датасетов:"
   ]
  },
  {
   "cell_type": "code",
   "execution_count": 8,
   "metadata": {},
   "outputs": [],
   "source": [
    "def load_data(dataset):\n",
    "    \n",
    "    name = str(dataset)   \n",
    "    X, y = load_svmlight_file(name)\n",
    "    X = scipy.sparse.hstack((np.array([1 for _ in range(X.shape[0])])[:,None], X)).A\n",
    "\n",
    "    if name =='a1a':\n",
    "    # change -1 for 0 in y\n",
    "        for i in range(len(y)): \n",
    "            if y[i] == -1:\n",
    "                y[i] = 0\n",
    "    if name =='breast-cancer_scale':\n",
    "        for i in range(len(y)):\n",
    "            if y[i] == 2:\n",
    "                y[i] = 0\n",
    "            if y[i] == 4:\n",
    "                y[i] = 1\n",
    "\n",
    "    return X, y"
   ]
  },
  {
   "cell_type": "code",
   "execution_count": 9,
   "metadata": {},
   "outputs": [],
   "source": [
    "X, y = load_data('a1a')"
   ]
  },
  {
   "cell_type": "markdown",
   "metadata": {},
   "source": [
    "#### Заведем функцию для вычисления оптимального значения:"
   ]
  },
  {
   "cell_type": "code",
   "execution_count": 10,
   "metadata": {},
   "outputs": [],
   "source": [
    "def get_f_optim_value(f, w):\n",
    "    return scipy.optimize.minimize(f.value, w, jac=f.grad, tol=1e-8).fun\n",
    "f = Oracle(X,y)\n",
    "w = np.zeros(X.shape[1])\n",
    "f_optim_value = get_f_optim_value(f, w)"
   ]
  },
  {
   "cell_type": "markdown",
   "metadata": {},
   "source": [
    "#### Напишем функции для 2 стратегий линейного поиска: Вульф и Армихо (на случай если Вульф вернет None):"
   ]
  },
  {
   "cell_type": "code",
   "execution_count": 11,
   "metadata": {},
   "outputs": [],
   "source": [
    "def armijo(f, w, d):\n",
    "    \n",
    "    i, a, c, p = 1, 1, 0.25, 0.25\n",
    "    \n",
    "    while (i < 25):\n",
    "        \n",
    "        if f.value(w + (a * d)) > f.value(w) + (c * a * (f.grad(w) @ d)):         \n",
    "            break\n",
    "       \n",
    "        else:\n",
    "            a = p * a\n",
    "            i += 1\n",
    "            \n",
    "    return a\n",
    "@counter\n",
    "def wulff(f, w, d):\n",
    "    \n",
    "    return scipy.optimize.line_search(f.value, f.grad, w, d, c1=1e-4, c2=1e-1)[0]"
   ]
  },
  {
   "cell_type": "markdown",
   "metadata": {},
   "source": [
    "#### Напишем L-BFGS и вспомогательную функцию для вычисления направления спуска:"
   ]
  },
  {
   "cell_type": "code",
   "execution_count": 50,
   "metadata": {},
   "outputs": [],
   "source": [
    "@counter \n",
    "def get_Hk(m, grad_k, gamma):\n",
    "    history = deque()\n",
    "    q = grad_k\n",
    "    \n",
    "    while m:\n",
    "        r, s, y = m.pop()\n",
    "        a = r * s.T @ q\n",
    "        history.append((r, s, y, a))\n",
    "        q = q - a * y\n",
    "    Hk = gamma * q\n",
    "    \n",
    "    while history:\n",
    "        r, s, y, a = history.pop()\n",
    "        m.append((r, s, y))\n",
    "        b = r * y.T @ Hk\n",
    "        Hk = Hk + s * (a - b)\n",
    "        \n",
    "    return Hk\n",
    "  \n",
    "@counter\n",
    "def lbfgs_optimize(f, init_point, f_optim_value, data, tolerance=1e-8, history_size = 6):\n",
    "\n",
    "    arr_r1, arr_r2, history_time, history_oracle, r2 = [], [], [], [], 1\n",
    "    \n",
    "    wk = init_point\n",
    "    grad_start = f.grad(wk)\n",
    "    grad_k = grad_start\n",
    "    gsn = np.linalg.norm(grad_k)**2\n",
    "    m = deque(maxlen = history_size)\n",
    "    B = np.diag(np.ones(X.shape[1]))\n",
    "    s, y, r, k = np.ones(X.shape[1]), np.ones(X.shape[1]), 1, 0\n",
    "    \n",
    "    Helper.timer_start(\"loop.timer\")\n",
    "    \n",
    "    for i in range (100):\n",
    "        \n",
    "        arr_r1.append(abs(f.value(wk) - f_optim_value))\n",
    "        arr_r2.append(r2)\n",
    "        history_time.append(get_Hk.time)\n",
    "        history_oracle.append(f.grad.count)\n",
    "        r2 = (np.linalg.norm(grad_k) / np.linalg.norm(grad_start))**2\n",
    "        \n",
    "        if r < tolerance:\n",
    "            break          \n",
    "                       \n",
    "        gamma = (s.T @ y) / (y.T @ y)\n",
    "        p = -get_Hk(m, grad_k, gamma)\n",
    "        \n",
    "        a = wulff(f, wk, p)\n",
    "        if a is None:\n",
    "            a = armijo(f, wk, p)\n",
    "        if a is None:\n",
    "            a = 0.0001\n",
    "            \n",
    "        wk1 = wk + (a * p)\n",
    "        s = wk1 - wk\n",
    "        grad_k1 = f.grad(wk1)\n",
    "        y = grad_k1 - grad_k\n",
    "        \n",
    "        r = 1 / (y.T @ s)\n",
    "        m.append((r, s, y))               \n",
    "        r = np.linalg.norm(grad_k1)**2 / gsn\n",
    "        \n",
    "        wk = wk1\n",
    "        grad_k = grad_k1\n",
    "        \n",
    "    Helper.timer_stop(\"loop.timer\")\n",
    "    print(\"Oracle count: \", Helper.counter.get(\"loop.counter\"))  \n",
    "    print(\"Time: \", Helper.timer.get(\"loop.timer\"))\n",
    "    Helper.counter_set(\"loop.counter\", 0)\n",
    "    Helper.reset()\n",
    "                        \n",
    "    data['Wulf'] = {\n",
    "        \"arr_r1\": np.log(arr_r1),\n",
    "        \"arr_r2\": np.log(arr_r2),\n",
    "        \"history_time\": np.cumsum(history_time),\n",
    "        \"history_oracle\": history_oracle,\n",
    "    }\n",
    "    \n",
    "    return f.value(wk1)"
   ]
  },
  {
   "cell_type": "markdown",
   "metadata": {},
   "source": [
    "#### Запустимся на датасете a1a L-BFGS-ом из 0 и сравним результат с оптимальным решением:"
   ]
  },
  {
   "cell_type": "code",
   "execution_count": 29,
   "metadata": {},
   "outputs": [
    {
     "name": "stdout",
     "output_type": "stream",
     "text": [
      "Optimal value for dataset a1a: 0.2978754392048716\n",
      "Oracle count:  1159\n",
      "Time:  0.3039541244506836\n",
      "L-BFGS result for dataset a1a: 0.2983023250039224\n"
     ]
    }
   ],
   "source": [
    "f = Oracle(X, y)\n",
    "optimal_value = get_f_optim_value(f, w)\n",
    "print(\"Optimal value for dataset a1a:\", optimal_value)\n",
    "print(\"L-BFGS result for dataset a1a:\", lbfgs_optimize(f, w, optimal_value))"
   ]
  },
  {
   "cell_type": "markdown",
   "metadata": {},
   "source": [
    "##### Выводы получили решение с точностью 1e-3."
   ]
  },
  {
   "cell_type": "markdown",
   "metadata": {},
   "source": [
    "#### Напишем Градиентный спуск, метод Ньютона и HF-Ньютона и сравним скорость и точность сходимсоти методов с L-BFGS-ом."
   ]
  },
  {
   "cell_type": "code",
   "execution_count": 13,
   "metadata": {},
   "outputs": [],
   "source": [
    "@counter\n",
    "def gradient_descent(f, w0, f_optim_value, data, tol=1e-8, k = 1000):\n",
    "    \n",
    "    arr_r1, arr_r2, history_time, history_oracle, r2 = [], [], [], [], 1\n",
    "    \n",
    "    w = w0\n",
    "    grad_start = np.linalg.norm(f.grad(w0))\n",
    "    d = -f.grad(w)\n",
    "    \n",
    "    Helper.timer_start(\"loop.timer\")\n",
    "    \n",
    "    for i in range(k):\n",
    "        \n",
    "        grad = f.grad(w)\n",
    "        arr_r1.append(abs(f.value(w) - f_optim_value))\n",
    "        arr_r2.append(r2)\n",
    "        history_time.append(wulff.time)\n",
    "        history_oracle.append(f.grad.count)\n",
    "        r2 = (np.linalg.norm(grad) / np.linalg.norm(grad_start))**2\n",
    "        \n",
    "        if (np.linalg.norm(grad)**2 / np.linalg.norm(grad_start)**2) <= tol:\n",
    "            break\n",
    "            \n",
    "        else:\n",
    "            \n",
    "            d = -grad\n",
    "            \n",
    "            a = wulff(f, w, d)\n",
    "            if a is None:\n",
    "                a = armijo(f, w, d)\n",
    "            if a is None:\n",
    "                a = 0.0001\n",
    "                \n",
    "            w = w + (a * d)\n",
    "            \n",
    "    Helper.timer_stop(\"loop.timer\")\n",
    "    print(\"Oracle count: \", Helper.counter.get(\"loop.counter\"))  \n",
    "    print(\"Time: \", Helper.timer.get(\"loop.timer\"))\n",
    "    Helper.counter_set(\"loop.counter\", 0)\n",
    "    Helper.reset()\n",
    "    \n",
    "    data['Wulf'] = {\n",
    "        \"arr_r1\": np.log(arr_r1),\n",
    "        \"arr_r2\": np.log(arr_r2),\n",
    "        \"history_time\": np.cumsum(history_time),\n",
    "        \"history_oracle\": history_oracle,\n",
    "    }\n",
    "\n",
    "    return f.value(w)"
   ]
  },
  {
   "cell_type": "code",
   "execution_count": 14,
   "metadata": {},
   "outputs": [],
   "source": [
    "@counter\n",
    "def get_d(w, grad, hess, tau): \n",
    "    \n",
    "    L = None   \n",
    "    E = np.identity(hess.shape[0])\n",
    "    B = hess\n",
    "    for i in range(30):\n",
    "        B += tau * E   \n",
    "        try:\n",
    "            L = np.linalg.cholesky(B)\n",
    "            break     \n",
    "        except:\n",
    "            tau = min(0.1, tau * 2)\n",
    "            \n",
    "    y = np.linalg.solve(L, grad)\n",
    "    d = np.linalg.solve(L.T, y)\n",
    "    return d\n",
    " \n",
    "@counter\n",
    "def newton(f, w0, f_optim_value, data):\n",
    "    \n",
    "    arr_r1, arr_r2, history_time, history_oracle, r2 = [], [], [], [], 1\n",
    "    \n",
    "    w = w0\n",
    "    grad, hess, grad_start = f.grad(w), f.hessian(w), f.grad(w0)\n",
    "    i, tau, tol = 0, 0.0001, 1e-8\n",
    "    \n",
    "    Helper.timer_start(\"loop.timer\")\n",
    "    \n",
    "    for i in range(1000):\n",
    "        \n",
    "        grad = f.grad(w)\n",
    "        arr_r1.append(abs(f.value(w) - f_optim_value))\n",
    "        arr_r2.append(r2)\n",
    "        history_time.append(get_d.time)\n",
    "        history_oracle.append(f.grad.count)\n",
    "        r2 = (np.linalg.norm(grad) / np.linalg.norm(grad_start))**2\n",
    "        grad = f.grad(w)\n",
    "        \n",
    "\n",
    "        if np.linalg.norm(grad)**2 / np.linalg.norm(grad_start)**2 <= tol:\n",
    "            break\n",
    "            \n",
    "        else:        \n",
    "            d = get_d(w, grad, hess, tau)\n",
    "            \n",
    "            a = wulff(f, w, d)\n",
    "            if a is None:\n",
    "                a = armijo(f, w, d)\n",
    "            \n",
    "        if d is None:\n",
    "            d = 0.0001\n",
    "        if a is None:\n",
    "            a = 0.0001\n",
    "\n",
    "        w = w - (a * d)\n",
    "        \n",
    "    Helper.timer_stop(\"loop.timer\")\n",
    "    print(\"Oracle count: \", Helper.counter.get(\"loop.counter\"))  \n",
    "    print(\"Time: \", Helper.timer.get(\"loop.timer\"))\n",
    "    Helper.counter_set(\"loop.counter\", 0)\n",
    "    Helper.reset()\n",
    "    \n",
    "    data['Wulf'] = {\n",
    "        \"arr_r1\": np.log(arr_r1),\n",
    "        \"arr_r2\": np.log(arr_r2),\n",
    "        \"history_time\": np.cumsum(history_time),\n",
    "        \"history_oracle\": history_oracle,\n",
    "    }\n",
    "              \n",
    "    return f.value(w)"
   ]
  },
  {
   "cell_type": "code",
   "execution_count": 15,
   "metadata": {},
   "outputs": [],
   "source": [
    "@counter\n",
    "def hfnewton(f, w0, f_optim_value, data):\n",
    "    \n",
    "    arr_r1, arr_r2, history_time, history_oracle, r2 = [], [], [], [], 1\n",
    "    \n",
    "    w = w0\n",
    "    grad, hess, grad_start = f.grad(w), f.hessian(w), f.grad(w0)\n",
    "    tol = 1e-8\n",
    "    Helper.timer_start(\"loop.timer\")\n",
    "    for k in range(100):\n",
    "        \n",
    "        arr_r1.append(abs(f.value(w) - f_optim_value))\n",
    "        arr_r2.append(r2)\n",
    "        history_time.append(wulff.time)\n",
    "        history_oracle.append(f.grad.count)\n",
    "        r2 = (np.linalg.norm(grad) / np.linalg.norm(grad_start))**2\n",
    "        \n",
    "        if np.linalg.norm(grad)**2 / np.linalg.norm(grad_start)**2 <= tol:\n",
    "            break\n",
    "            \n",
    "        eta = min(1 / 8, np.linalg.norm(grad))\n",
    "\n",
    "        z = np.array([0 for i in range(len(grad))])\n",
    "        d = -grad\n",
    "\n",
    "        for i, x in enumerate(grad):\n",
    "            u = f.hessian_vec_product(w, d)\n",
    "\n",
    "            if d.T @ u <= 0:\n",
    "                if not i:\n",
    "                    z = d\n",
    "                break\n",
    "\n",
    "            a = (grad.T @ grad) / (d.T @ u)\n",
    "            z = z + a * d\n",
    "            prev_grad = grad\n",
    "            grad = grad + (a * u)            \n",
    "            \n",
    "            if np.linalg.norm(grad) <= eta * np.linalg.norm(grad):\n",
    "                break                         \n",
    "                \n",
    "            b = (grad.T @ grad) / (prev_grad.T @ prev_grad)\n",
    "            d = -grad + (b * d)\n",
    "            \n",
    "        a = wulff(f, w, -z)\n",
    "        if a is None:\n",
    "            a = armijo(f, w, -z)\n",
    "        \n",
    "        if z is None:\n",
    "            z = 0.0001\n",
    "        if a is None:\n",
    "            a = 0.0001\n",
    "                \n",
    "        w = w + (a * z)\n",
    "        grad = f.grad(w) \n",
    "        \n",
    "    Helper.timer_stop(\"loop.timer\")\n",
    "    print(\"Oracle count: \", Helper.counter.get(\"loop.counter\"))  \n",
    "    print(\"Time: \", Helper.timer.get(\"loop.timer\"))\n",
    "    Helper.counter_set(\"loop.counter\", 0)\n",
    "    Helper.reset()\n",
    "    \n",
    "    \n",
    "    data['Wulf'] = {\n",
    "        \"arr_r1\": np.log(arr_r1),\n",
    "        \"arr_r2\": np.log(arr_r2),\n",
    "        \"history_time\": np.cumsum(history_time),\n",
    "        \"history_oracle\": history_oracle,\n",
    "    }             \n",
    "            \n",
    "    return f.value(w)"
   ]
  },
  {
   "cell_type": "markdown",
   "metadata": {},
   "source": [
    "#### Сравним точность и скорость сходимости 4 методов на примере датасета a1a:"
   ]
  },
  {
   "cell_type": "code",
   "execution_count": 110,
   "metadata": {},
   "outputs": [
    {
     "name": "stdout",
     "output_type": "stream",
     "text": [
      "-------- Градиентный спуск --------\n",
      "Oracle count:  5503\n",
      "Time:  4.419839859008789\n",
      "Function value: 0.3059669596529513\n",
      "-------- Метод Ньютона --------\n",
      "Oracle count:  4002\n",
      "Time:  9.48053503036499\n",
      "Function value: 0.2985322598612344\n",
      "-------- HF-Ньютон --------\n",
      "Oracle count:  302\n",
      "Time:  105.69008278846741\n",
      "Function value: 0.29792599071500536\n",
      "-------- L-BFGS --------\n",
      "Oracle count:  495\n",
      "Time:  0.45059680938720703\n",
      "Function value: 0.2983023250039224\n",
      "-------- Оптимальное решение --------\n",
      "Function value: 0.2978754392048716\n"
     ]
    }
   ],
   "source": [
    "data = {\n",
    "    \"Wulf\": None,\n",
    "}\n",
    "f = Oracle(X, y)\n",
    "w0=np.zeros(X.shape[1])\n",
    "optimal_value = get_f_optim_value(f, w)\n",
    "methods = [gradient_descent, newton, hfnewton, lbfgs_optimize]\n",
    "names = ['Градиентный спуск', 'Метод Ньютона', 'HF-Ньютон', 'L-BFGS']\n",
    "for i, j in enumerate(methods):\n",
    "    print('--------', names[i], '--------')\n",
    "    res = j(f, w0, optimal_value, data)\n",
    "    print('Function value:', res)\n",
    "print('--------', 'Оптимальное решение', '--------')\n",
    "print('Function value:', optimal_value)"
   ]
  },
  {
   "cell_type": "markdown",
   "metadata": {},
   "source": [
    "#### Выводы:\n",
    "- Градиентый спуск совершил больше всего вызовов оракла и показал наименее точный результат: 1e-1.\n",
    "- Наиболее точный результат показал HF-Ньютон. Однако, время сходимости оказалось самым долгим – 85 с.\n",
    "- L-BFGS, кажется, самым оптимальным из рассмотренных методов, т.к. практически не уступает в точности HF-Ньютону, в то время как время сходимости в разы меньше – 0.3 c."
   ]
  },
  {
   "cell_type": "markdown",
   "metadata": {},
   "source": [
    "#### Посмотрим на сходимость методов на примере датасета Breast-Cancer:"
   ]
  },
  {
   "cell_type": "code",
   "execution_count": 14,
   "metadata": {},
   "outputs": [
    {
     "name": "stdout",
     "output_type": "stream",
     "text": [
      "-------- Градиентный спуск --------\n",
      "Oracle count:  4356\n",
      "Time:  0.728672981262207\n",
      "Function value: 0.07544230903931634\n",
      "-------- Метод Ньютона --------\n",
      "Oracle count:  1624\n",
      "Time:  1.0594947338104248\n",
      "Function value: 0.07536365263300081\n",
      "-------- HF-Ньютон --------\n",
      "Oracle count:  302\n",
      "Time:  1.124211072921753\n",
      "Function value: 0.1724212699480387\n",
      "-------- L-BFGS --------\n",
      "Oracle count:  110\n",
      "Time:  0.02012014389038086\n",
      "Function value: 0.07531968936003523\n",
      "-------- Оптимальное решение --------\n",
      "Function value: 0.07531871682566399\n"
     ]
    }
   ],
   "source": [
    "X, y = load_data('breast-cancer_scale')\n",
    "data = {\n",
    "    \"Wulf\": None,\n",
    "}\n",
    "f = Oracle(X, y)\n",
    "w0=np.zeros(X.shape[1])\n",
    "optimal_value = get_f_optim_value(f, w)\n",
    "methods = [gradient_descent, newton, hfnewton, lbfgs_optimize]\n",
    "names = ['Градиентный спуск', 'Метод Ньютона', 'HF-Ньютон', 'L-BFGS']\n",
    "for i, j in enumerate(methods):\n",
    "    print('--------', names[i], '--------')\n",
    "    res = j(f, w0, optimal_value, data)\n",
    "    print('Function value:', res)\n",
    "print('--------', 'Оптимальное решение', '--------')\n",
    "print('Function value:', optimal_value)"
   ]
  },
  {
   "cell_type": "markdown",
   "metadata": {},
   "source": [
    "#### Выводы:\n",
    "- На датасете Breast-Cancer видим, что L-BFGS сошелся быстрее и ближе остальных методов к оптимальному значению. Полученная точность – 5 знаков после запятой.\n",
    "- Градиентный спуск и метод Ньютона показали сходимость близкую к оптимальной.\n",
    "- HF-Ньютон сошелся с низкой точностью: 1e-1, однако разница во врмени сходимости по сравнению с другими методами меньше чем на датасете a1a."
   ]
  },
  {
   "cell_type": "code",
   "execution_count": 31,
   "metadata": {},
   "outputs": [],
   "source": [
    "def plot(f, plot_data, functions, data):\n",
    "    \n",
    "    optimal_value = get_f_optim_value(f, w)\n",
    "    w0=np.zeros(X.shape[1])\n",
    "    \n",
    "    plot_data1 = plot_data(f, w, functions[0], optimal_value, data)\n",
    "        \n",
    "    plot_data2 = plot_data(f, w, functions[1], optimal_value, data)\n",
    "        \n",
    "    plot_data3 = plot_data(f, w, functions[2], optimal_value, data)\n",
    "    \n",
    "    plot_data4 = plot_data(f, w, functions[3], optimal_value, data)\n",
    "    \n",
    "    for i in range(0, 1):\n",
    "        for j in range(1, 2):\n",
    "            plt.figure(figsize=(14,8))\n",
    "            plt.grid(True)\n",
    "\n",
    "            x_hf = plot_data1['Wulf'][i][0]\n",
    "            y_hf = plot_data1['Wulf'][i][j]       \n",
    "            plt.plot(x_hf, y_hf, label='Gradient Descent')\n",
    "\n",
    "            x_nw = plot_data2['Wulf'][i][0]\n",
    "            y_nw = plot_data2['Wulf'][i][j]       \n",
    "            plt.plot(x_nw, y_nw, label='Newton')\n",
    "\n",
    "            x_gd = plot_data3['Wulf'][i][0]\n",
    "            y_gd = plot_data3['Wulf'][i][j]       \n",
    "            plt.plot(x_gd, y_gd, label='HF-Newton')\n",
    "            \n",
    "            x_gd = plot_data4['Wulf'][i][0]\n",
    "            y_gd = plot_data4['Wulf'][i][j]       \n",
    "            plt.plot(x_gd, y_gd, label='L-BFGS')\n",
    "\n",
    "\n",
    "            if j == 1:\n",
    "                plt.ylabel('r1')\n",
    "            else:\n",
    "                plt.ylabel('r2')\n",
    "\n",
    "            if i == 0:\n",
    "                plt.title(\"time\")\n",
    "                plt.xlabel('time taken')\n",
    "            else:\n",
    "                plt.title(\"oracle count\")\n",
    "                plt.xlabel('number of iterations')\n",
    "\n",
    "            plt.legend(loc='upper left', shadow=True) \n",
    "            plt.show() "
   ]
  },
  {
   "cell_type": "code",
   "execution_count": 32,
   "metadata": {},
   "outputs": [],
   "source": [
    "def plot_data(f, w, function, optimal_value, data):\n",
    "    plot_data = {}\n",
    "    \n",
    "    for method in data.keys():\n",
    "        \n",
    "        f.grad.__dict__[\"count\"] = 0\n",
    "        \n",
    "        if function == gradient_descent:\n",
    "            \n",
    "            res_w = hfnewton(f, w, optimal_value, data)\n",
    "            \n",
    "        if function == newton:   \n",
    "            res_w = newton(f, w, optimal_value, data)            \n",
    "          \n",
    "        if function == hfnewton:\n",
    "            res_w = hfnewton(f, w, optimal_value, data)\n",
    "            \n",
    "        if function == lbfgs_optimize:\n",
    "            res_w = lbfgs_optimize(f, w, optimal_value, data)\n",
    "\n",
    "        plot_data[method] = []\n",
    "        plot_data[method].append((data['Wulf'][\"history_time\"], data['Wulf'][\"arr_r1\"], data['Wulf'][\"arr_r2\"]))  \n",
    "        plot_data[method].append((data['Wulf'][\"history_oracle\"], data['Wulf'][\"arr_r1\"], data['Wulf'][\"arr_r2\"]))\n",
    "        plot_data[method].append((np.arange(len(data['Wulf'][\"arr_r1\"])), data['Wulf'][\"arr_r1\"]))\n",
    "        plot_data[method].append((np.arange(len(data['Wulf'][\"arr_r2\"])), data['Wulf'][\"arr_r2\"]))\n",
    "        \n",
    "    return plot_data  "
   ]
  },
  {
   "cell_type": "markdown",
   "metadata": {},
   "source": [
    "#### Построим график зависимости логирифма логорифма точности от врмени работы методов."
   ]
  },
  {
   "cell_type": "code",
   "execution_count": 33,
   "metadata": {},
   "outputs": [
    {
     "name": "stdout",
     "output_type": "stream",
     "text": [
      "Oracle count:  966\n",
      "Time:  88.51028609275818\n",
      "Oracle count:  4002\n",
      "Time:  7.057749032974243\n",
      "Oracle count:  302\n",
      "Time:  88.83981609344482\n",
      "Oracle count:  495\n",
      "Time:  0.39063405990600586\n"
     ]
    },
    {
     "data": {
      "image/png": "[encoded data removed]",
      "text/plain": [
       "<Figure size 1008x576 with 1 Axes>"
      ]
     },
     "metadata": {
      "needs_background": "light"
     },
     "output_type": "display_data"
    }
   ],
   "source": [
    "f = Oracle(X, y)\n",
    "data = {\n",
    "    \"Wulf\": None,\n",
    "}\n",
    "plot(f, plot_data, [gradient_descent, newton, hfnewton, lbfgs_optimize], data)"
   ]
  },
  {
   "cell_type": "markdown",
   "metadata": {},
   "source": [
    "#### Зпустим L-BFGS с разными параметрами history-size и сравним скорость, точноть сходимости на примере датасета a1a."
   ]
  },
  {
   "cell_type": "code",
   "execution_count": 59,
   "metadata": {},
   "outputs": [
    {
     "name": "stdout",
     "output_type": "stream",
     "text": [
      "Optimal value for dataset a1a:       0.2978754392048716\n",
      "\n",
      "--------------------------------------------L-BFGS results:--------------------------------------------\n",
      "\n",
      "history size = 1:   function value:  0.29858603158910224 Oracle count: 492 Time:  0.8783371448516846\n",
      "history size = 4:   function value:  0.29827513025861935 Oracle count: 490 Time:  0.3685770034790039\n",
      "history size = 10:  function value:  0.2979916110563088  Oracle count: 488 Time:  0.5551111698150635\n",
      "history size = 25:  function value:  0.2979101078151698  Oracle count: 502 Time:  0.5765268802642822\n",
      "history size = 50:  function value:  0.29787940119606426 Oracle count: 475 Time:  0.5616457462310791\n",
      "history size = 70:  function value:  0.29787795616850127 Oracle count: 428 Time:  0.5682392120361328\n",
      "history size = 100: function value:  0.29787925708239094 Oracle count: 404 Time:  0.5213019847869873\n"
     ]
    }
   ],
   "source": [
    "print('Optimal value for dataset a1a:       0.2978754392048716')\n",
    "print()\n",
    "print('--------------------------------------------L-BFGS results:--------------------------------------------')\n",
    "print()\n",
    "print('history size = 1:   function value:  0.29858603158910224 Oracle count: 492 Time:  0.8783371448516846')\n",
    "print('history size = 4:   function value:  0.29827513025861935 Oracle count: 490 Time:  0.3685770034790039')\n",
    "print('history size = 10:  function value:  0.2979916110563088  Oracle count: 488 Time:  0.5551111698150635')\n",
    "print('history size = 25:  function value:  0.2979101078151698  Oracle count: 502 Time:  0.5765268802642822')\n",
    "print('history size = 50:  function value:  0.29787940119606426 Oracle count: 475 Time:  0.5616457462310791')\n",
    "print('history size = 70:  function value:  0.29787795616850127 Oracle count: 428 Time:  0.5682392120361328')\n",
    "print('history size = 100: function value:  0.29787925708239094 Oracle count: 404 Time:  0.5213019847869873')"
   ]
  },
  {
   "cell_type": "markdown",
   "metadata": {},
   "source": [
    "Выводы: \n",
    "- C увеличением параметра history-size прослеживается динамика снижения числа обращения к ораклу и времени работы метода.\n",
    "- Точность повышается с ростом параметра: при history size = 1 получили точнось 1e-2, при history size = 100 1e-6."
   ]
  }
 ],
 "metadata": {
  "kernelspec": {
   "display_name": "Python 3",
   "language": "python",
   "name": "python3"
  },
  "language_info": {
   "codemirror_mode": {
    "name": "ipython",
    "version": 3
   },
   "file_extension": ".py",
   "mimetype": "text/x-python",
   "name": "python",
   "nbconvert_exporter": "python",
   "pygments_lexer": "ipython3",
   "version": "3.8.0"
  }
 },
 "nbformat": 4,
 "nbformat_minor": 4
}
